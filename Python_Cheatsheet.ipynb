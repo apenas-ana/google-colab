{
  "nbformat": 4,
  "nbformat_minor": 0,
  "metadata": {
    "colab": {
      "name": "Python Cheatsheet",
      "provenance": [],
      "authorship_tag": "ABX9TyNESElqmNrrmD8HzNc6mXgQ",
      "include_colab_link": true
    },
    "kernelspec": {
      "name": "python3",
      "display_name": "Python 3"
    }
  },
  "cells": [
    {
      "cell_type": "markdown",
      "metadata": {
        "id": "view-in-github",
        "colab_type": "text"
      },
      "source": [
        "<a href=\"https://colab.research.google.com/github/apenas-ana/google-colab/blob/master/Python_Cheatsheet.ipynb\" target=\"_parent\"><img src=\"https://colab.research.google.com/assets/colab-badge.svg\" alt=\"Open In Colab\"/></a>"
      ]
    },
    {
      "cell_type": "markdown",
      "metadata": {
        "id": "qrteCMJsObV3",
        "colab_type": "text"
      },
      "source": [
        "\n",
        "# Basic Concepts\n",
        "\n",
        "Python is a high-level programming language, with applications in numerous areas, including web programming, scripting, scientific computing, and artificial intelligence.\n",
        "\n",
        "It is very popular and used by organizations such as Google, NASA, the CIA, and Disney.\n",
        "\n",
        "Python is processed at runtime by the interpreter. There is no need to compile your program before executing it."
      ]
    },
    {
      "cell_type": "markdown",
      "metadata": {
        "id": "kLRignJNO8k1",
        "colab_type": "text"
      },
      "source": [
        "## First Program"
      ]
    },
    {
      "cell_type": "code",
      "metadata": {
        "id": "167I5dVIOyft",
        "colab_type": "code",
        "colab": {
          "base_uri": "https://localhost:8080/",
          "height": 34
        },
        "outputId": "96d1b947-ecdd-4e3c-a6dd-3532c0cd6fef"
      },
      "source": [
        "print('Hello World')"
      ],
      "execution_count": 3,
      "outputs": [
        {
          "output_type": "stream",
          "text": [
            "Hello World\n"
          ],
          "name": "stdout"
        }
      ]
    },
    {
      "cell_type": "markdown",
      "metadata": {
        "id": "wDag4X42PQkf",
        "colab_type": "text"
      },
      "source": [
        "## Simple Operations"
      ]
    },
    {
      "cell_type": "code",
      "metadata": {
        "id": "ESUC3OFNPKoG",
        "colab_type": "code",
        "colab": {}
      },
      "source": [
        ""
      ],
      "execution_count": null,
      "outputs": []
    },
    {
      "cell_type": "markdown",
      "metadata": {
        "id": "sCWIBZ3sPgkN",
        "colab_type": "text"
      },
      "source": [
        "# Object-Oriented Programming"
      ]
    },
    {
      "cell_type": "markdown",
      "metadata": {
        "id": "1sQ1ANTFPzq1",
        "colab_type": "text"
      },
      "source": [
        "## Classes"
      ]
    },
    {
      "cell_type": "code",
      "metadata": {
        "id": "k4r93KLiRa-s",
        "colab_type": "code",
        "colab": {}
      },
      "source": [
        "class Cat:\n",
        "  def __init__(self, color, legs):\n",
        "    self.color = color\n",
        "    self.legs = legs\n",
        "\n",
        "felix = Cat(\"ginger\", 4)\n",
        "rover = Cat(\"dog-colored\", 4)\n",
        "stumpy = Cat(\"brown\", 3)"
      ],
      "execution_count": 4,
      "outputs": []
    },
    {
      "cell_type": "markdown",
      "metadata": {
        "id": "8LU_RCQZP2PH",
        "colab_type": "text"
      },
      "source": [
        "## Inheritance"
      ]
    },
    {
      "cell_type": "code",
      "metadata": {
        "id": "TsBxPxXgPkke",
        "colab_type": "code",
        "colab": {}
      },
      "source": [
        ""
      ],
      "execution_count": null,
      "outputs": []
    }
  ]
}